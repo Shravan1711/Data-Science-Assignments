{
  "cells": [
    {
      "cell_type": "markdown",
      "metadata": {
        "id": "view-in-github",
        "colab_type": "text"
      },
      "source": [
        "<a href=\"https://colab.research.google.com/github/Shravan1711/Data-Science-Assignments/blob/main/Telecom%20Dataset%20Assignment.ipynb\" target=\"_parent\"><img src=\"https://colab.research.google.com/assets/colab-badge.svg\" alt=\"Open In Colab\"/></a>"
      ]
    },
    {
      "cell_type": "code",
      "source": [
        "import pandas as pd\n",
        "import numpy as np\n",
        "import matplotlib.pyplot as plt\n",
        "import seaborn as sns"
      ],
      "metadata": {
        "id": "OCOspz4n99gK"
      },
      "execution_count": 27,
      "outputs": []
    },
    {
      "cell_type": "code",
      "source": [
        "data=pd.read_csv('/content/Mobile_Phones.csv')\n",
        "data.head(10)"
      ],
      "metadata": {
        "id": "-GNT8s4R-Yx1",
        "outputId": "bfa4d538-82d0-4497-d7ca-71bb53763ca2",
        "colab": {
          "base_uri": "https://localhost:8080/",
          "height": 427
        }
      },
      "execution_count": 28,
      "outputs": [
        {
          "output_type": "execute_result",
          "data": {
            "text/plain": [
              "       PID Blue Wi_Fi Tch_Scr Ext_Mem  Px_h  Px_w  Scr_h  Scr_w  PC  FC  \\\n",
              "0  AAB346A  yes   yes      no      no   780   460      3      1   2   2   \n",
              "1  AAC347I  yes   yes      no      no   780   560      2      1   4   2   \n",
              "2  BAB657J   no   yes      no      no   840   720      2      1   4   2   \n",
              "3  BBD456K   no   yes     yes      no  1280  1120      5      3   6   2   \n",
              "4  CCP761U   no   yes     yes      no  1280  1080      4      3   6   2   \n",
              "5  CCQ674K  yes    no      no      no  1280  1080      4      3   6   4   \n",
              "6  CTX123L  yes    no     yes      no  1390  1080      6      3   8   4   \n",
              "7  DFR256N  yes    no      no      no  2880  2120      8      6  12   8   \n",
              "8  DGS789M  yes   yes     yes     yes  2580  1920      6      3  32  16   \n",
              "9  ENG897N  yes   yes     yes     yes  2580  1980      5      3  64  32   \n",
              "\n",
              "   Int_Mem  Bty_Pwr  RAM  Depth  Weight  Price  \n",
              "0        8     2800    2      7     320   3297  \n",
              "1        8     3000    2      7     280   4500  \n",
              "2        8     3300    2      7     400   4898  \n",
              "3       32     3000    2      3     300   6900  \n",
              "4       16     3000    2      3     210   5600  \n",
              "5        8     2980    2      3     230   4990  \n",
              "6       32     3000    2      3     100  13400  \n",
              "7       32     3200    2      3      80  15600  \n",
              "8        8     2800    6      3     120  27688  \n",
              "9       64     4380    4      3     150  23456  "
            ],
            "text/html": [
              "\n",
              "  <div id=\"df-497de888-52fd-4929-84c0-ac20755a0500\">\n",
              "    <div class=\"colab-df-container\">\n",
              "      <div>\n",
              "<style scoped>\n",
              "    .dataframe tbody tr th:only-of-type {\n",
              "        vertical-align: middle;\n",
              "    }\n",
              "\n",
              "    .dataframe tbody tr th {\n",
              "        vertical-align: top;\n",
              "    }\n",
              "\n",
              "    .dataframe thead th {\n",
              "        text-align: right;\n",
              "    }\n",
              "</style>\n",
              "<table border=\"1\" class=\"dataframe\">\n",
              "  <thead>\n",
              "    <tr style=\"text-align: right;\">\n",
              "      <th></th>\n",
              "      <th>PID</th>\n",
              "      <th>Blue</th>\n",
              "      <th>Wi_Fi</th>\n",
              "      <th>Tch_Scr</th>\n",
              "      <th>Ext_Mem</th>\n",
              "      <th>Px_h</th>\n",
              "      <th>Px_w</th>\n",
              "      <th>Scr_h</th>\n",
              "      <th>Scr_w</th>\n",
              "      <th>PC</th>\n",
              "      <th>FC</th>\n",
              "      <th>Int_Mem</th>\n",
              "      <th>Bty_Pwr</th>\n",
              "      <th>RAM</th>\n",
              "      <th>Depth</th>\n",
              "      <th>Weight</th>\n",
              "      <th>Price</th>\n",
              "    </tr>\n",
              "  </thead>\n",
              "  <tbody>\n",
              "    <tr>\n",
              "      <th>0</th>\n",
              "      <td>AAB346A</td>\n",
              "      <td>yes</td>\n",
              "      <td>yes</td>\n",
              "      <td>no</td>\n",
              "      <td>no</td>\n",
              "      <td>780</td>\n",
              "      <td>460</td>\n",
              "      <td>3</td>\n",
              "      <td>1</td>\n",
              "      <td>2</td>\n",
              "      <td>2</td>\n",
              "      <td>8</td>\n",
              "      <td>2800</td>\n",
              "      <td>2</td>\n",
              "      <td>7</td>\n",
              "      <td>320</td>\n",
              "      <td>3297</td>\n",
              "    </tr>\n",
              "    <tr>\n",
              "      <th>1</th>\n",
              "      <td>AAC347I</td>\n",
              "      <td>yes</td>\n",
              "      <td>yes</td>\n",
              "      <td>no</td>\n",
              "      <td>no</td>\n",
              "      <td>780</td>\n",
              "      <td>560</td>\n",
              "      <td>2</td>\n",
              "      <td>1</td>\n",
              "      <td>4</td>\n",
              "      <td>2</td>\n",
              "      <td>8</td>\n",
              "      <td>3000</td>\n",
              "      <td>2</td>\n",
              "      <td>7</td>\n",
              "      <td>280</td>\n",
              "      <td>4500</td>\n",
              "    </tr>\n",
              "    <tr>\n",
              "      <th>2</th>\n",
              "      <td>BAB657J</td>\n",
              "      <td>no</td>\n",
              "      <td>yes</td>\n",
              "      <td>no</td>\n",
              "      <td>no</td>\n",
              "      <td>840</td>\n",
              "      <td>720</td>\n",
              "      <td>2</td>\n",
              "      <td>1</td>\n",
              "      <td>4</td>\n",
              "      <td>2</td>\n",
              "      <td>8</td>\n",
              "      <td>3300</td>\n",
              "      <td>2</td>\n",
              "      <td>7</td>\n",
              "      <td>400</td>\n",
              "      <td>4898</td>\n",
              "    </tr>\n",
              "    <tr>\n",
              "      <th>3</th>\n",
              "      <td>BBD456K</td>\n",
              "      <td>no</td>\n",
              "      <td>yes</td>\n",
              "      <td>yes</td>\n",
              "      <td>no</td>\n",
              "      <td>1280</td>\n",
              "      <td>1120</td>\n",
              "      <td>5</td>\n",
              "      <td>3</td>\n",
              "      <td>6</td>\n",
              "      <td>2</td>\n",
              "      <td>32</td>\n",
              "      <td>3000</td>\n",
              "      <td>2</td>\n",
              "      <td>3</td>\n",
              "      <td>300</td>\n",
              "      <td>6900</td>\n",
              "    </tr>\n",
              "    <tr>\n",
              "      <th>4</th>\n",
              "      <td>CCP761U</td>\n",
              "      <td>no</td>\n",
              "      <td>yes</td>\n",
              "      <td>yes</td>\n",
              "      <td>no</td>\n",
              "      <td>1280</td>\n",
              "      <td>1080</td>\n",
              "      <td>4</td>\n",
              "      <td>3</td>\n",
              "      <td>6</td>\n",
              "      <td>2</td>\n",
              "      <td>16</td>\n",
              "      <td>3000</td>\n",
              "      <td>2</td>\n",
              "      <td>3</td>\n",
              "      <td>210</td>\n",
              "      <td>5600</td>\n",
              "    </tr>\n",
              "    <tr>\n",
              "      <th>5</th>\n",
              "      <td>CCQ674K</td>\n",
              "      <td>yes</td>\n",
              "      <td>no</td>\n",
              "      <td>no</td>\n",
              "      <td>no</td>\n",
              "      <td>1280</td>\n",
              "      <td>1080</td>\n",
              "      <td>4</td>\n",
              "      <td>3</td>\n",
              "      <td>6</td>\n",
              "      <td>4</td>\n",
              "      <td>8</td>\n",
              "      <td>2980</td>\n",
              "      <td>2</td>\n",
              "      <td>3</td>\n",
              "      <td>230</td>\n",
              "      <td>4990</td>\n",
              "    </tr>\n",
              "    <tr>\n",
              "      <th>6</th>\n",
              "      <td>CTX123L</td>\n",
              "      <td>yes</td>\n",
              "      <td>no</td>\n",
              "      <td>yes</td>\n",
              "      <td>no</td>\n",
              "      <td>1390</td>\n",
              "      <td>1080</td>\n",
              "      <td>6</td>\n",
              "      <td>3</td>\n",
              "      <td>8</td>\n",
              "      <td>4</td>\n",
              "      <td>32</td>\n",
              "      <td>3000</td>\n",
              "      <td>2</td>\n",
              "      <td>3</td>\n",
              "      <td>100</td>\n",
              "      <td>13400</td>\n",
              "    </tr>\n",
              "    <tr>\n",
              "      <th>7</th>\n",
              "      <td>DFR256N</td>\n",
              "      <td>yes</td>\n",
              "      <td>no</td>\n",
              "      <td>no</td>\n",
              "      <td>no</td>\n",
              "      <td>2880</td>\n",
              "      <td>2120</td>\n",
              "      <td>8</td>\n",
              "      <td>6</td>\n",
              "      <td>12</td>\n",
              "      <td>8</td>\n",
              "      <td>32</td>\n",
              "      <td>3200</td>\n",
              "      <td>2</td>\n",
              "      <td>3</td>\n",
              "      <td>80</td>\n",
              "      <td>15600</td>\n",
              "    </tr>\n",
              "    <tr>\n",
              "      <th>8</th>\n",
              "      <td>DGS789M</td>\n",
              "      <td>yes</td>\n",
              "      <td>yes</td>\n",
              "      <td>yes</td>\n",
              "      <td>yes</td>\n",
              "      <td>2580</td>\n",
              "      <td>1920</td>\n",
              "      <td>6</td>\n",
              "      <td>3</td>\n",
              "      <td>32</td>\n",
              "      <td>16</td>\n",
              "      <td>8</td>\n",
              "      <td>2800</td>\n",
              "      <td>6</td>\n",
              "      <td>3</td>\n",
              "      <td>120</td>\n",
              "      <td>27688</td>\n",
              "    </tr>\n",
              "    <tr>\n",
              "      <th>9</th>\n",
              "      <td>ENG897N</td>\n",
              "      <td>yes</td>\n",
              "      <td>yes</td>\n",
              "      <td>yes</td>\n",
              "      <td>yes</td>\n",
              "      <td>2580</td>\n",
              "      <td>1980</td>\n",
              "      <td>5</td>\n",
              "      <td>3</td>\n",
              "      <td>64</td>\n",
              "      <td>32</td>\n",
              "      <td>64</td>\n",
              "      <td>4380</td>\n",
              "      <td>4</td>\n",
              "      <td>3</td>\n",
              "      <td>150</td>\n",
              "      <td>23456</td>\n",
              "    </tr>\n",
              "  </tbody>\n",
              "</table>\n",
              "</div>\n",
              "      <button class=\"colab-df-convert\" onclick=\"convertToInteractive('df-497de888-52fd-4929-84c0-ac20755a0500')\"\n",
              "              title=\"Convert this dataframe to an interactive table.\"\n",
              "              style=\"display:none;\">\n",
              "        \n",
              "  <svg xmlns=\"http://www.w3.org/2000/svg\" height=\"24px\"viewBox=\"0 0 24 24\"\n",
              "       width=\"24px\">\n",
              "    <path d=\"M0 0h24v24H0V0z\" fill=\"none\"/>\n",
              "    <path d=\"M18.56 5.44l.94 2.06.94-2.06 2.06-.94-2.06-.94-.94-2.06-.94 2.06-2.06.94zm-11 1L8.5 8.5l.94-2.06 2.06-.94-2.06-.94L8.5 2.5l-.94 2.06-2.06.94zm10 10l.94 2.06.94-2.06 2.06-.94-2.06-.94-.94-2.06-.94 2.06-2.06.94z\"/><path d=\"M17.41 7.96l-1.37-1.37c-.4-.4-.92-.59-1.43-.59-.52 0-1.04.2-1.43.59L10.3 9.45l-7.72 7.72c-.78.78-.78 2.05 0 2.83L4 21.41c.39.39.9.59 1.41.59.51 0 1.02-.2 1.41-.59l7.78-7.78 2.81-2.81c.8-.78.8-2.07 0-2.86zM5.41 20L4 18.59l7.72-7.72 1.47 1.35L5.41 20z\"/>\n",
              "  </svg>\n",
              "      </button>\n",
              "      \n",
              "  <style>\n",
              "    .colab-df-container {\n",
              "      display:flex;\n",
              "      flex-wrap:wrap;\n",
              "      gap: 12px;\n",
              "    }\n",
              "\n",
              "    .colab-df-convert {\n",
              "      background-color: #E8F0FE;\n",
              "      border: none;\n",
              "      border-radius: 50%;\n",
              "      cursor: pointer;\n",
              "      display: none;\n",
              "      fill: #1967D2;\n",
              "      height: 32px;\n",
              "      padding: 0 0 0 0;\n",
              "      width: 32px;\n",
              "    }\n",
              "\n",
              "    .colab-df-convert:hover {\n",
              "      background-color: #E2EBFA;\n",
              "      box-shadow: 0px 1px 2px rgba(60, 64, 67, 0.3), 0px 1px 3px 1px rgba(60, 64, 67, 0.15);\n",
              "      fill: #174EA6;\n",
              "    }\n",
              "\n",
              "    [theme=dark] .colab-df-convert {\n",
              "      background-color: #3B4455;\n",
              "      fill: #D2E3FC;\n",
              "    }\n",
              "\n",
              "    [theme=dark] .colab-df-convert:hover {\n",
              "      background-color: #434B5C;\n",
              "      box-shadow: 0px 1px 3px 1px rgba(0, 0, 0, 0.15);\n",
              "      filter: drop-shadow(0px 1px 2px rgba(0, 0, 0, 0.3));\n",
              "      fill: #FFFFFF;\n",
              "    }\n",
              "  </style>\n",
              "\n",
              "      <script>\n",
              "        const buttonEl =\n",
              "          document.querySelector('#df-497de888-52fd-4929-84c0-ac20755a0500 button.colab-df-convert');\n",
              "        buttonEl.style.display =\n",
              "          google.colab.kernel.accessAllowed ? 'block' : 'none';\n",
              "\n",
              "        async function convertToInteractive(key) {\n",
              "          const element = document.querySelector('#df-497de888-52fd-4929-84c0-ac20755a0500');\n",
              "          const dataTable =\n",
              "            await google.colab.kernel.invokeFunction('convertToInteractive',\n",
              "                                                     [key], {});\n",
              "          if (!dataTable) return;\n",
              "\n",
              "          const docLinkHtml = 'Like what you see? Visit the ' +\n",
              "            '<a target=\"_blank\" href=https://colab.research.google.com/notebooks/data_table.ipynb>data table notebook</a>'\n",
              "            + ' to learn more about interactive tables.';\n",
              "          element.innerHTML = '';\n",
              "          dataTable['output_type'] = 'display_data';\n",
              "          await google.colab.output.renderOutput(dataTable, element);\n",
              "          const docLink = document.createElement('div');\n",
              "          docLink.innerHTML = docLinkHtml;\n",
              "          element.appendChild(docLink);\n",
              "        }\n",
              "      </script>\n",
              "    </div>\n",
              "  </div>\n",
              "  "
            ]
          },
          "metadata": {},
          "execution_count": 28
        }
      ]
    },
    {
      "cell_type": "code",
      "source": [
        "data.shape"
      ],
      "metadata": {
        "id": "aNDpRaol_sDF",
        "outputId": "145873b3-cb4e-413c-d536-07a0d2d0127f",
        "colab": {
          "base_uri": "https://localhost:8080/"
        }
      },
      "execution_count": 5,
      "outputs": [
        {
          "output_type": "execute_result",
          "data": {
            "text/plain": [
              "(50, 17)"
            ]
          },
          "metadata": {},
          "execution_count": 5
        }
      ]
    },
    {
      "cell_type": "code",
      "source": [
        "data.index"
      ],
      "metadata": {
        "id": "9_Mdg8nb_usI",
        "outputId": "4c4f8e92-6019-49aa-ed99-193ab5a063d2",
        "colab": {
          "base_uri": "https://localhost:8080/"
        }
      },
      "execution_count": 6,
      "outputs": [
        {
          "output_type": "execute_result",
          "data": {
            "text/plain": [
              "RangeIndex(start=0, stop=50, step=1)"
            ]
          },
          "metadata": {},
          "execution_count": 6
        }
      ]
    },
    {
      "cell_type": "code",
      "source": [
        "data.columns"
      ],
      "metadata": {
        "id": "mwJKGnQ6_xQI",
        "outputId": "6a9bdb10-f8d2-43da-9dd7-2a19718b5db9",
        "colab": {
          "base_uri": "https://localhost:8080/"
        }
      },
      "execution_count": 7,
      "outputs": [
        {
          "output_type": "execute_result",
          "data": {
            "text/plain": [
              "Index(['PID', 'Blue', 'Wi_Fi', 'Tch_Scr', 'Ext_Mem', 'Px_h', 'Px_w', 'Scr_h',\n",
              "       'Scr_w', 'PC', 'FC', 'Int_Mem', 'Bty_Pwr', 'RAM', 'Depth', 'Weight',\n",
              "       'Price'],\n",
              "      dtype='object')"
            ]
          },
          "metadata": {},
          "execution_count": 7
        }
      ]
    },
    {
      "cell_type": "code",
      "source": [
        "data.info()"
      ],
      "metadata": {
        "id": "4cbIQriZ_7OF",
        "outputId": "a1ee8f69-d871-4aac-f6e7-67ee8283c71e",
        "colab": {
          "base_uri": "https://localhost:8080/"
        }
      },
      "execution_count": 8,
      "outputs": [
        {
          "output_type": "stream",
          "name": "stdout",
          "text": [
            "<class 'pandas.core.frame.DataFrame'>\n",
            "RangeIndex: 50 entries, 0 to 49\n",
            "Data columns (total 17 columns):\n",
            " #   Column   Non-Null Count  Dtype \n",
            "---  ------   --------------  ----- \n",
            " 0   PID      50 non-null     object\n",
            " 1   Blue     50 non-null     object\n",
            " 2   Wi_Fi    50 non-null     object\n",
            " 3   Tch_Scr  50 non-null     object\n",
            " 4   Ext_Mem  50 non-null     object\n",
            " 5   Px_h     50 non-null     int64 \n",
            " 6   Px_w     50 non-null     int64 \n",
            " 7   Scr_h    50 non-null     int64 \n",
            " 8   Scr_w    50 non-null     int64 \n",
            " 9   PC       50 non-null     int64 \n",
            " 10  FC       50 non-null     int64 \n",
            " 11  Int_Mem  50 non-null     int64 \n",
            " 12  Bty_Pwr  50 non-null     int64 \n",
            " 13  RAM      50 non-null     int64 \n",
            " 14  Depth    50 non-null     int64 \n",
            " 15  Weight   50 non-null     int64 \n",
            " 16  Price    50 non-null     int64 \n",
            "dtypes: int64(12), object(5)\n",
            "memory usage: 6.8+ KB\n"
          ]
        }
      ]
    },
    {
      "cell_type": "markdown",
      "source": [
        "Scatter Plot of RAM and Price"
      ],
      "metadata": {
        "id": "nYvvstTjEdoy"
      }
    },
    {
      "cell_type": "code",
      "source": [
        "plt.figure(figsize=(10,5))\n",
        "sns.scatterplot(data=data,x='RAM',y='Price',color='red',edgecolor='linen',alpha=0.5)\n",
        "plt.title(\"Scatterplot of RAM and Price\")\n",
        "plt.xlabel('RAM')\n",
        "plt.ylabel('Price')\n",
        "plt.show()"
      ],
      "metadata": {
        "id": "2V4YaltBEb0B",
        "outputId": "cb73aaee-2098-4c8d-b5a6-5c31b37333e7",
        "colab": {
          "base_uri": "https://localhost:8080/",
          "height": 350
        }
      },
      "execution_count": 9,
      "outputs": [
        {
          "output_type": "display_data",
          "data": {
            "text/plain": [
              "<Figure size 720x360 with 1 Axes>"
            ],
            "image/png": "[encoded data removed]"
          },
          "metadata": {
            "needs_background": "light"
          }
        }
      ]
    },
    {
      "cell_type": "markdown",
      "source": [
        "We can see that as the RAM increases, Price also increases."
      ],
      "metadata": {
        "id": "XHRqwvIxFXHg"
      }
    },
    {
      "cell_type": "markdown",
      "source": [
        "Scatter plot of Battery power and Price"
      ],
      "metadata": {
        "id": "uGCFtBMlFgfV"
      }
    },
    {
      "cell_type": "code",
      "source": [
        "plt.figure(figsize=(10,5))\n",
        "sns.scatterplot(data=data,x='Bty_Pwr',y='Price',color='blue',edgecolor='linen',alpha=0.5)\n",
        "plt.title(\"Scatterplot of Battery power and price\")\n",
        "plt.xlabel('Battery power')\n",
        "plt.ylabel('Price')\n",
        "plt.show()"
      ],
      "metadata": {
        "id": "KoQ8jrH9G2HY",
        "outputId": "daa57010-7711-446f-fc07-abb48a8e4031",
        "colab": {
          "base_uri": "https://localhost:8080/",
          "height": 350
        }
      },
      "execution_count": 10,
      "outputs": [
        {
          "output_type": "display_data",
          "data": {
            "text/plain": [
              "<Figure size 720x360 with 1 Axes>"
            ],
            "image/png": "[encoded data removed]"
          },
          "metadata": {
            "needs_background": "light"
          }
        }
      ]
    },
    {
      "cell_type": "markdown",
      "source": [
        "We can see as the Battery power increases, the Price also increases."
      ],
      "metadata": {
        "id": "lRu1WIlOHsAY"
      }
    },
    {
      "cell_type": "markdown",
      "source": [
        "Scatterplot of Mobile Weight and Price"
      ],
      "metadata": {
        "id": "IzVLrQ13H0qG"
      }
    },
    {
      "cell_type": "code",
      "source": [
        "plt.figure(figsize=(10,5))\n",
        "sns.scatterplot(data=data,x='Weight',y='Price',color='green',edgecolor='linen',alpha=0.5)\n",
        "plt.title('Scatterplot of Mobile Weight and Price')\n",
        "plt.xlabel('MObile Weight')\n",
        "plt.ylabel('Price')\n",
        "plt.show()"
      ],
      "metadata": {
        "id": "urR4GKqmH9o_",
        "outputId": "850b9a4a-e2a8-47aa-a037-772223063ef5",
        "colab": {
          "base_uri": "https://localhost:8080/",
          "height": 350
        }
      },
      "execution_count": 11,
      "outputs": [
        {
          "output_type": "display_data",
          "data": {
            "text/plain": [
              "<Figure size 720x360 with 1 Axes>"
            ],
            "image/png": "[encoded data removed]"
          },
          "metadata": {
            "needs_background": "light"
          }
        }
      ]
    },
    {
      "cell_type": "markdown",
      "source": [
        "We can see that as the mobile weight increases, the price decreases."
      ],
      "metadata": {
        "id": "Cg8aGXsqInpH"
      }
    },
    {
      "cell_type": "markdown",
      "source": [
        "Scatterplot of Depth and Price"
      ],
      "metadata": {
        "id": "2NcbrQygIzzZ"
      }
    },
    {
      "cell_type": "code",
      "source": [
        "plt.figure(figsize=(10,5))\n",
        "sns.scatterplot(data=data,x='Depth',y='Price',color='orange',edgecolor='linen',alpha=0.5)\n",
        "plt.title(\"Scatterplot of Depth and Price\")\n",
        "plt.xlabel('Depth')\n",
        "plt.ylabel('Price')\n",
        "plt.show()"
      ],
      "metadata": {
        "id": "N_AXOYpry5Ui",
        "outputId": "7ac35d5a-f056-4269-f50f-5e4a7d11b884",
        "colab": {
          "base_uri": "https://localhost:8080/",
          "height": 350
        }
      },
      "execution_count": 16,
      "outputs": [
        {
          "output_type": "display_data",
          "data": {
            "text/plain": [
              "<Figure size 720x360 with 1 Axes>"
            ],
            "image/png": "[encoded data removed]"
          },
          "metadata": {
            "needs_background": "light"
          }
        }
      ]
    },
    {
      "cell_type": "markdown",
      "source": [
        "We can see as the Depth increases, the Price also increases."
      ],
      "metadata": {
        "id": "u2f0NTHp0EZC"
      }
    },
    {
      "cell_type": "markdown",
      "source": [
        "Scatterplot of Internal memory and Price"
      ],
      "metadata": {
        "id": "LNNaZqXI0fRp"
      }
    },
    {
      "cell_type": "code",
      "source": [
        "plt.figure(figsize=(10,5))\n",
        "sns.scatterplot(data=data,x='Int_Mem',y='Price',color='green',edgecolor='linen',alpha=0.5)\n",
        "plt.title(\"Scatterplot of Internal Memory and Price\")\n",
        "plt.xlabel('Internal memory')\n",
        "plt.ylabel('Price')\n",
        "plt.show()"
      ],
      "metadata": {
        "id": "UUlpffm90kkt",
        "outputId": "e148f321-f7fd-49d8-e7ce-ee1678cb7ba1",
        "colab": {
          "base_uri": "https://localhost:8080/",
          "height": 350
        }
      },
      "execution_count": 20,
      "outputs": [
        {
          "output_type": "display_data",
          "data": {
            "text/plain": [
              "<Figure size 720x360 with 1 Axes>"
            ],
            "image/png": "[encoded data removed]"
          },
          "metadata": {
            "needs_background": "light"
          }
        }
      ]
    },
    {
      "cell_type": "markdown",
      "source": [
        "We can see as the Internal memory increases, the Price also increases."
      ],
      "metadata": {
        "id": "FdhCd13A17uJ"
      }
    },
    {
      "cell_type": "markdown",
      "source": [
        "Countpot of Primary Camera"
      ],
      "metadata": {
        "id": "s01a5lhp2E-n"
      }
    },
    {
      "cell_type": "code",
      "source": [
        "plt.figure(figsize=(11,6))\n",
        "sns.countplot(data['PC'])\n",
        "plt.title(\"Countplot of Primary Camera\")\n",
        "plt.xlabel('Primary camera')\n",
        "plt.ylabel('Count')\n",
        "plt.show()"
      ],
      "metadata": {
        "id": "e2q34VbT3hhk",
        "outputId": "b31efebb-bd40-452f-edeb-af7eb3d08db5",
        "colab": {
          "base_uri": "https://localhost:8080/",
          "height": 459
        }
      },
      "execution_count": 25,
      "outputs": [
        {
          "output_type": "stream",
          "name": "stderr",
          "text": [
            "/usr/local/lib/python3.8/dist-packages/seaborn/_decorators.py:36: FutureWarning: Pass the following variable as a keyword arg: x. From version 0.12, the only valid positional argument will be `data`, and passing other arguments without an explicit keyword will result in an error or misinterpretation.\n",
            "  warnings.warn(\n"
          ]
        },
        {
          "output_type": "display_data",
          "data": {
            "text/plain": [
              "<Figure size 792x432 with 1 Axes>"
            ],
            "image/png": "[encoded data removed]"
          },
          "metadata": {
            "needs_background": "light"
          }
        }
      ]
    },
    {
      "cell_type": "markdown",
      "source": [
        "We can see that most number of mobiles have 64 megapixcel camera"
      ],
      "metadata": {
        "id": "9yV1YbA14vHE"
      }
    },
    {
      "cell_type": "markdown",
      "source": [
        "Count Plot of Front Camera"
      ],
      "metadata": {
        "id": "_gHwa5sf5FT5"
      }
    },
    {
      "cell_type": "code",
      "source": [
        "plt.figure(figsize=(11,6))\n",
        "sns.countplot(data['FC'])\n",
        "plt.title(\"Countplot of Front Camera\")\n",
        "plt.xlabel('Front camera')\n",
        "plt.ylabel('Count')\n",
        "plt.show()"
      ],
      "metadata": {
        "id": "VEQSj7ci5Jtb",
        "outputId": "c6a24f0b-e63f-4e16-ee5c-5b2571845823",
        "colab": {
          "base_uri": "https://localhost:8080/",
          "height": 459
        }
      },
      "execution_count": 26,
      "outputs": [
        {
          "output_type": "stream",
          "name": "stderr",
          "text": [
            "/usr/local/lib/python3.8/dist-packages/seaborn/_decorators.py:36: FutureWarning: Pass the following variable as a keyword arg: x. From version 0.12, the only valid positional argument will be `data`, and passing other arguments without an explicit keyword will result in an error or misinterpretation.\n",
            "  warnings.warn(\n"
          ]
        },
        {
          "output_type": "display_data",
          "data": {
            "text/plain": [
              "<Figure size 792x432 with 1 Axes>"
            ],
            "image/png": "[encoded data removed]"
          },
          "metadata": {
            "needs_background": "light"
          }
        }
      ]
    },
    {
      "cell_type": "markdown",
      "source": [
        "We can see most of the mobile have 32 megapixel Front camera."
      ],
      "metadata": {
        "id": "GEELCvlh5UZz"
      }
    },
    {
      "cell_type": "markdown",
      "source": [
        "Count plot of Scr_h"
      ],
      "metadata": {
        "id": "47iCaruVJ72r"
      }
    },
    {
      "cell_type": "code",
      "source": [
        "plt.figure(figsize=(11,6))\n",
        "sns.countplot(data['Scr_h'])\n",
        "plt.title(\"Countplot of Scr_h\")\n",
        "plt.xlabel('Scr_h')\n",
        "plt.ylabel('Count')\n",
        "plt.show()"
      ],
      "metadata": {
        "id": "NnOm1VEzKDbU",
        "outputId": "bbf43400-604e-432f-f34d-f9f7b3ef3454",
        "colab": {
          "base_uri": "https://localhost:8080/",
          "height": 460
        }
      },
      "execution_count": 40,
      "outputs": [
        {
          "output_type": "stream",
          "name": "stderr",
          "text": [
            "/usr/local/lib/python3.8/dist-packages/seaborn/_decorators.py:36: FutureWarning: Pass the following variable as a keyword arg: x. From version 0.12, the only valid positional argument will be `data`, and passing other arguments without an explicit keyword will result in an error or misinterpretation.\n",
            "  warnings.warn(\n"
          ]
        },
        {
          "output_type": "display_data",
          "data": {
            "text/plain": [
              "<Figure size 792x432 with 1 Axes>"
            ],
            "image/png": "[encoded data removed]"
          },
          "metadata": {
            "needs_background": "light"
          }
        }
      ]
    },
    {
      "cell_type": "markdown",
      "source": [
        "Countplot of Scr_w"
      ],
      "metadata": {
        "id": "oAcHteTgKQVn"
      }
    },
    {
      "cell_type": "code",
      "source": [
        "plt.figure(figsize=(11,6))\n",
        "sns.countplot(data['Scr_w'])\n",
        "plt.title(\"Countplot of Scr_w\")\n",
        "plt.xlabel('Scr_w')\n",
        "plt.ylabel('Count')\n",
        "plt.show()"
      ],
      "metadata": {
        "id": "r9UrEp3VKW0P",
        "outputId": "37821644-34c9-4ae6-de6b-3ae58d9fd9b0",
        "colab": {
          "base_uri": "https://localhost:8080/",
          "height": 460
        }
      },
      "execution_count": 41,
      "outputs": [
        {
          "output_type": "stream",
          "name": "stderr",
          "text": [
            "/usr/local/lib/python3.8/dist-packages/seaborn/_decorators.py:36: FutureWarning: Pass the following variable as a keyword arg: x. From version 0.12, the only valid positional argument will be `data`, and passing other arguments without an explicit keyword will result in an error or misinterpretation.\n",
            "  warnings.warn(\n"
          ]
        },
        {
          "output_type": "display_data",
          "data": {
            "text/plain": [
              "<Figure size 792x432 with 1 Axes>"
            ],
            "image/png": "[encoded data removed]"
          },
          "metadata": {
            "needs_background": "light"
          }
        }
      ]
    },
    {
      "cell_type": "markdown",
      "source": [
        "Countplot of Px_h"
      ],
      "metadata": {
        "id": "mSJissz4KjBO"
      }
    },
    {
      "cell_type": "code",
      "source": [
        "plt.figure(figsize=(11,6))\n",
        "sns.countplot(data['Px_h'])\n",
        "plt.title(\"Countplot of Px_h\")\n",
        "plt.xlabel('Px_h')\n",
        "plt.ylabel('Count')\n",
        "plt.show()"
      ],
      "metadata": {
        "id": "CMtyn5Y_KigJ",
        "outputId": "52b0d9a3-ccc8-40fa-971f-534553b5f74f",
        "colab": {
          "base_uri": "https://localhost:8080/",
          "height": 460
        }
      },
      "execution_count": 42,
      "outputs": [
        {
          "output_type": "stream",
          "name": "stderr",
          "text": [
            "/usr/local/lib/python3.8/dist-packages/seaborn/_decorators.py:36: FutureWarning: Pass the following variable as a keyword arg: x. From version 0.12, the only valid positional argument will be `data`, and passing other arguments without an explicit keyword will result in an error or misinterpretation.\n",
            "  warnings.warn(\n"
          ]
        },
        {
          "output_type": "display_data",
          "data": {
            "text/plain": [
              "<Figure size 792x432 with 1 Axes>"
            ],
            "image/png": "[encoded data removed]"
          },
          "metadata": {
            "needs_background": "light"
          }
        }
      ]
    },
    {
      "cell_type": "markdown",
      "source": [
        "Countplot of Px_w"
      ],
      "metadata": {
        "id": "Jb0rh06rKxgR"
      }
    },
    {
      "cell_type": "code",
      "source": [
        "plt.figure(figsize=(11,6))\n",
        "sns.countplot(data['Px_w'])\n",
        "plt.title(\"Countplot of Px_w\")\n",
        "plt.xlabel('Px_w')\n",
        "plt.ylabel('Count')\n",
        "plt.show()"
      ],
      "metadata": {
        "id": "bS9hXrT7K0ay",
        "outputId": "6c452742-f766-495c-c1e9-db36855c2763",
        "colab": {
          "base_uri": "https://localhost:8080/",
          "height": 460
        }
      },
      "execution_count": 43,
      "outputs": [
        {
          "output_type": "stream",
          "name": "stderr",
          "text": [
            "/usr/local/lib/python3.8/dist-packages/seaborn/_decorators.py:36: FutureWarning: Pass the following variable as a keyword arg: x. From version 0.12, the only valid positional argument will be `data`, and passing other arguments without an explicit keyword will result in an error or misinterpretation.\n",
            "  warnings.warn(\n"
          ]
        },
        {
          "output_type": "display_data",
          "data": {
            "text/plain": [
              "<Figure size 792x432 with 1 Axes>"
            ],
            "image/png": "[encoded data removed]"
          },
          "metadata": {
            "needs_background": "light"
          }
        }
      ]
    },
    {
      "cell_type": "markdown",
      "source": [
        "Heat Map Plot"
      ],
      "metadata": {
        "id": "V0xqN5o95ds8"
      }
    },
    {
      "cell_type": "code",
      "source": [
        "data1=data.drop(columns=['PID','Blue','Wi_Fi','Tch_Scr','Ext_Mem'],axis=1)\n",
        "data1.head()"
      ],
      "metadata": {
        "id": "QU650fr_FLcT",
        "outputId": "c332e86f-92c7-4936-eadf-68516b240533",
        "colab": {
          "base_uri": "https://localhost:8080/",
          "height": 206
        }
      },
      "execution_count": 30,
      "outputs": [
        {
          "output_type": "execute_result",
          "data": {
            "text/plain": [
              "   Px_h  Px_w  Scr_h  Scr_w  PC  FC  Int_Mem  Bty_Pwr  RAM  Depth  Weight  \\\n",
              "0   780   460      3      1   2   2        8     2800    2      7     320   \n",
              "1   780   560      2      1   4   2        8     3000    2      7     280   \n",
              "2   840   720      2      1   4   2        8     3300    2      7     400   \n",
              "3  1280  1120      5      3   6   2       32     3000    2      3     300   \n",
              "4  1280  1080      4      3   6   2       16     3000    2      3     210   \n",
              "\n",
              "   Price  \n",
              "0   3297  \n",
              "1   4500  \n",
              "2   4898  \n",
              "3   6900  \n",
              "4   5600  "
            ],
            "text/html": [
              "\n",
              "  <div id=\"df-c53f5a7a-bbad-4659-8eca-516b1c554b72\">\n",
              "    <div class=\"colab-df-container\">\n",
              "      <div>\n",
              "<style scoped>\n",
              "    .dataframe tbody tr th:only-of-type {\n",
              "        vertical-align: middle;\n",
              "    }\n",
              "\n",
              "    .dataframe tbody tr th {\n",
              "        vertical-align: top;\n",
              "    }\n",
              "\n",
              "    .dataframe thead th {\n",
              "        text-align: right;\n",
              "    }\n",
              "</style>\n",
              "<table border=\"1\" class=\"dataframe\">\n",
              "  <thead>\n",
              "    <tr style=\"text-align: right;\">\n",
              "      <th></th>\n",
              "      <th>Px_h</th>\n",
              "      <th>Px_w</th>\n",
              "      <th>Scr_h</th>\n",
              "      <th>Scr_w</th>\n",
              "      <th>PC</th>\n",
              "      <th>FC</th>\n",
              "      <th>Int_Mem</th>\n",
              "      <th>Bty_Pwr</th>\n",
              "      <th>RAM</th>\n",
              "      <th>Depth</th>\n",
              "      <th>Weight</th>\n",
              "      <th>Price</th>\n",
              "    </tr>\n",
              "  </thead>\n",
              "  <tbody>\n",
              "    <tr>\n",
              "      <th>0</th>\n",
              "      <td>780</td>\n",
              "      <td>460</td>\n",
              "      <td>3</td>\n",
              "      <td>1</td>\n",
              "      <td>2</td>\n",
              "      <td>2</td>\n",
              "      <td>8</td>\n",
              "      <td>2800</td>\n",
              "      <td>2</td>\n",
              "      <td>7</td>\n",
              "      <td>320</td>\n",
              "      <td>3297</td>\n",
              "    </tr>\n",
              "    <tr>\n",
              "      <th>1</th>\n",
              "      <td>780</td>\n",
              "      <td>560</td>\n",
              "      <td>2</td>\n",
              "      <td>1</td>\n",
              "      <td>4</td>\n",
              "      <td>2</td>\n",
              "      <td>8</td>\n",
              "      <td>3000</td>\n",
              "      <td>2</td>\n",
              "      <td>7</td>\n",
              "      <td>280</td>\n",
              "      <td>4500</td>\n",
              "    </tr>\n",
              "    <tr>\n",
              "      <th>2</th>\n",
              "      <td>840</td>\n",
              "      <td>720</td>\n",
              "      <td>2</td>\n",
              "      <td>1</td>\n",
              "      <td>4</td>\n",
              "      <td>2</td>\n",
              "      <td>8</td>\n",
              "      <td>3300</td>\n",
              "      <td>2</td>\n",
              "      <td>7</td>\n",
              "      <td>400</td>\n",
              "      <td>4898</td>\n",
              "    </tr>\n",
              "    <tr>\n",
              "      <th>3</th>\n",
              "      <td>1280</td>\n",
              "      <td>1120</td>\n",
              "      <td>5</td>\n",
              "      <td>3</td>\n",
              "      <td>6</td>\n",
              "      <td>2</td>\n",
              "      <td>32</td>\n",
              "      <td>3000</td>\n",
              "      <td>2</td>\n",
              "      <td>3</td>\n",
              "      <td>300</td>\n",
              "      <td>6900</td>\n",
              "    </tr>\n",
              "    <tr>\n",
              "      <th>4</th>\n",
              "      <td>1280</td>\n",
              "      <td>1080</td>\n",
              "      <td>4</td>\n",
              "      <td>3</td>\n",
              "      <td>6</td>\n",
              "      <td>2</td>\n",
              "      <td>16</td>\n",
              "      <td>3000</td>\n",
              "      <td>2</td>\n",
              "      <td>3</td>\n",
              "      <td>210</td>\n",
              "      <td>5600</td>\n",
              "    </tr>\n",
              "  </tbody>\n",
              "</table>\n",
              "</div>\n",
              "      <button class=\"colab-df-convert\" onclick=\"convertToInteractive('df-c53f5a7a-bbad-4659-8eca-516b1c554b72')\"\n",
              "              title=\"Convert this dataframe to an interactive table.\"\n",
              "              style=\"display:none;\">\n",
              "        \n",
              "  <svg xmlns=\"http://www.w3.org/2000/svg\" height=\"24px\"viewBox=\"0 0 24 24\"\n",
              "       width=\"24px\">\n",
              "    <path d=\"M0 0h24v24H0V0z\" fill=\"none\"/>\n",
              "    <path d=\"M18.56 5.44l.94 2.06.94-2.06 2.06-.94-2.06-.94-.94-2.06-.94 2.06-2.06.94zm-11 1L8.5 8.5l.94-2.06 2.06-.94-2.06-.94L8.5 2.5l-.94 2.06-2.06.94zm10 10l.94 2.06.94-2.06 2.06-.94-2.06-.94-.94-2.06-.94 2.06-2.06.94z\"/><path d=\"M17.41 7.96l-1.37-1.37c-.4-.4-.92-.59-1.43-.59-.52 0-1.04.2-1.43.59L10.3 9.45l-7.72 7.72c-.78.78-.78 2.05 0 2.83L4 21.41c.39.39.9.59 1.41.59.51 0 1.02-.2 1.41-.59l7.78-7.78 2.81-2.81c.8-.78.8-2.07 0-2.86zM5.41 20L4 18.59l7.72-7.72 1.47 1.35L5.41 20z\"/>\n",
              "  </svg>\n",
              "      </button>\n",
              "      \n",
              "  <style>\n",
              "    .colab-df-container {\n",
              "      display:flex;\n",
              "      flex-wrap:wrap;\n",
              "      gap: 12px;\n",
              "    }\n",
              "\n",
              "    .colab-df-convert {\n",
              "      background-color: #E8F0FE;\n",
              "      border: none;\n",
              "      border-radius: 50%;\n",
              "      cursor: pointer;\n",
              "      display: none;\n",
              "      fill: #1967D2;\n",
              "      height: 32px;\n",
              "      padding: 0 0 0 0;\n",
              "      width: 32px;\n",
              "    }\n",
              "\n",
              "    .colab-df-convert:hover {\n",
              "      background-color: #E2EBFA;\n",
              "      box-shadow: 0px 1px 2px rgba(60, 64, 67, 0.3), 0px 1px 3px 1px rgba(60, 64, 67, 0.15);\n",
              "      fill: #174EA6;\n",
              "    }\n",
              "\n",
              "    [theme=dark] .colab-df-convert {\n",
              "      background-color: #3B4455;\n",
              "      fill: #D2E3FC;\n",
              "    }\n",
              "\n",
              "    [theme=dark] .colab-df-convert:hover {\n",
              "      background-color: #434B5C;\n",
              "      box-shadow: 0px 1px 3px 1px rgba(0, 0, 0, 0.15);\n",
              "      filter: drop-shadow(0px 1px 2px rgba(0, 0, 0, 0.3));\n",
              "      fill: #FFFFFF;\n",
              "    }\n",
              "  </style>\n",
              "\n",
              "      <script>\n",
              "        const buttonEl =\n",
              "          document.querySelector('#df-c53f5a7a-bbad-4659-8eca-516b1c554b72 button.colab-df-convert');\n",
              "        buttonEl.style.display =\n",
              "          google.colab.kernel.accessAllowed ? 'block' : 'none';\n",
              "\n",
              "        async function convertToInteractive(key) {\n",
              "          const element = document.querySelector('#df-c53f5a7a-bbad-4659-8eca-516b1c554b72');\n",
              "          const dataTable =\n",
              "            await google.colab.kernel.invokeFunction('convertToInteractive',\n",
              "                                                     [key], {});\n",
              "          if (!dataTable) return;\n",
              "\n",
              "          const docLinkHtml = 'Like what you see? Visit the ' +\n",
              "            '<a target=\"_blank\" href=https://colab.research.google.com/notebooks/data_table.ipynb>data table notebook</a>'\n",
              "            + ' to learn more about interactive tables.';\n",
              "          element.innerHTML = '';\n",
              "          dataTable['output_type'] = 'display_data';\n",
              "          await google.colab.output.renderOutput(dataTable, element);\n",
              "          const docLink = document.createElement('div');\n",
              "          docLink.innerHTML = docLinkHtml;\n",
              "          element.appendChild(docLink);\n",
              "        }\n",
              "      </script>\n",
              "    </div>\n",
              "  </div>\n",
              "  "
            ]
          },
          "metadata": {},
          "execution_count": 30
        }
      ]
    },
    {
      "cell_type": "code",
      "source": [
        "plt.figure(figsize=(11,6))\n",
        "sns.heatmap(data1.corr(),annot=True,linewidth=1,cmap='coolwarm',center=0)\n",
        "plt.title(\"Heatmap of Mobile dataset\")\n",
        "plt.show()"
      ],
      "metadata": {
        "id": "ML0-mHrwF3Zy",
        "outputId": "e479439d-a590-4dfb-8cb7-53e0bb5bfb7f",
        "colab": {
          "base_uri": "https://localhost:8080/",
          "height": 423
        }
      },
      "execution_count": 34,
      "outputs": [
        {
          "output_type": "display_data",
          "data": {
            "text/plain": [
              "<Figure size 792x432 with 2 Axes>"
            ],
            "image/png": "[encoded data removed]"
          },
          "metadata": {
            "needs_background": "light"
          }
        }
      ]
    },
    {
      "cell_type": "markdown",
      "source": [
        "Histogram of Price"
      ],
      "metadata": {
        "id": "3YE7g-xTHPSO"
      }
    },
    {
      "cell_type": "code",
      "source": [
        "plt.figure(figsize=(11,6))\n",
        "sns.histplot(data=data,x='Price',color='blue',edgecolor='linen',alpha=0.7,bins=10)\n",
        "plt.title(\"Histogram of Price\")\n",
        "plt.xlabel('Price')\n",
        "plt.ylabel('Count')\n",
        "plt.show()"
      ],
      "metadata": {
        "id": "CgpAYENUHOBK",
        "outputId": "1d5f1acc-dd61-4d26-8513-99be7217657b",
        "colab": {
          "base_uri": "https://localhost:8080/",
          "height": 404
        }
      },
      "execution_count": 35,
      "outputs": [
        {
          "output_type": "display_data",
          "data": {
            "text/plain": [
              "<Figure size 792x432 with 1 Axes>"
            ],
            "image/png": "[encoded data removed]"
          },
          "metadata": {
            "needs_background": "light"
          }
        }
      ]
    },
    {
      "cell_type": "markdown",
      "source": [
        "From the graph we can see that most of the mobiles are in the range of Price 40000, very limited mobile are in the range of Price 140000."
      ],
      "metadata": {
        "id": "k0Zl1WGvH9KC"
      }
    },
    {
      "cell_type": "code",
      "source": [
        "Total=data[(data['Price']>20000) & (data['Price']<45000)]\n",
        "Total.head()"
      ],
      "metadata": {
        "id": "c2vnP17pIibE",
        "outputId": "6b02d0dc-c57b-45c7-b6f6-6dff12db6bdd",
        "colab": {
          "base_uri": "https://localhost:8080/",
          "height": 270
        }
      },
      "execution_count": 45,
      "outputs": [
        {
          "output_type": "execute_result",
          "data": {
            "text/plain": [
              "        PID Blue Wi_Fi Tch_Scr Ext_Mem  Px_h  Px_w  Scr_h  Scr_w  PC  FC  \\\n",
              "8   DGS789M  yes   yes     yes     yes  2580  1920      6      3  32  16   \n",
              "9   ENG897N  yes   yes     yes     yes  2580  1980      5      3  64  32   \n",
              "10  EOP657N  yes   yes     yes     yes  2580  1920      6      3  32  16   \n",
              "11  ELS333L  yes   yes     yes     yes  2580  1920      8      6  64  32   \n",
              "12  ETT987D   no   yes     yes     yes  2580  1980      6      5  64  32   \n",
              "\n",
              "    Int_Mem  Bty_Pwr  RAM  Depth  Weight  Price  \n",
              "8         8     2800    6      3     120  27688  \n",
              "9        64     4380    4      3     150  23456  \n",
              "10      128     2800    4      4     210  35460  \n",
              "11        8     4500    8      4     150  43980  \n",
              "12       64     4500    6      4     300  28700  "
            ],
            "text/html": [
              "\n",
              "  <div id=\"df-6bb67596-af36-49f2-8de1-725b9ea936a5\">\n",
              "    <div class=\"colab-df-container\">\n",
              "      <div>\n",
              "<style scoped>\n",
              "    .dataframe tbody tr th:only-of-type {\n",
              "        vertical-align: middle;\n",
              "    }\n",
              "\n",
              "    .dataframe tbody tr th {\n",
              "        vertical-align: top;\n",
              "    }\n",
              "\n",
              "    .dataframe thead th {\n",
              "        text-align: right;\n",
              "    }\n",
              "</style>\n",
              "<table border=\"1\" class=\"dataframe\">\n",
              "  <thead>\n",
              "    <tr style=\"text-align: right;\">\n",
              "      <th></th>\n",
              "      <th>PID</th>\n",
              "      <th>Blue</th>\n",
              "      <th>Wi_Fi</th>\n",
              "      <th>Tch_Scr</th>\n",
              "      <th>Ext_Mem</th>\n",
              "      <th>Px_h</th>\n",
              "      <th>Px_w</th>\n",
              "      <th>Scr_h</th>\n",
              "      <th>Scr_w</th>\n",
              "      <th>PC</th>\n",
              "      <th>FC</th>\n",
              "      <th>Int_Mem</th>\n",
              "      <th>Bty_Pwr</th>\n",
              "      <th>RAM</th>\n",
              "      <th>Depth</th>\n",
              "      <th>Weight</th>\n",
              "      <th>Price</th>\n",
              "    </tr>\n",
              "  </thead>\n",
              "  <tbody>\n",
              "    <tr>\n",
              "      <th>8</th>\n",
              "      <td>DGS789M</td>\n",
              "      <td>yes</td>\n",
              "      <td>yes</td>\n",
              "      <td>yes</td>\n",
              "      <td>yes</td>\n",
              "      <td>2580</td>\n",
              "      <td>1920</td>\n",
              "      <td>6</td>\n",
              "      <td>3</td>\n",
              "      <td>32</td>\n",
              "      <td>16</td>\n",
              "      <td>8</td>\n",
              "      <td>2800</td>\n",
              "      <td>6</td>\n",
              "      <td>3</td>\n",
              "      <td>120</td>\n",
              "      <td>27688</td>\n",
              "    </tr>\n",
              "    <tr>\n",
              "      <th>9</th>\n",
              "      <td>ENG897N</td>\n",
              "      <td>yes</td>\n",
              "      <td>yes</td>\n",
              "      <td>yes</td>\n",
              "      <td>yes</td>\n",
              "      <td>2580</td>\n",
              "      <td>1980</td>\n",
              "      <td>5</td>\n",
              "      <td>3</td>\n",
              "      <td>64</td>\n",
              "      <td>32</td>\n",
              "      <td>64</td>\n",
              "      <td>4380</td>\n",
              "      <td>4</td>\n",
              "      <td>3</td>\n",
              "      <td>150</td>\n",
              "      <td>23456</td>\n",
              "    </tr>\n",
              "    <tr>\n",
              "      <th>10</th>\n",
              "      <td>EOP657N</td>\n",
              "      <td>yes</td>\n",
              "      <td>yes</td>\n",
              "      <td>yes</td>\n",
              "      <td>yes</td>\n",
              "      <td>2580</td>\n",
              "      <td>1920</td>\n",
              "      <td>6</td>\n",
              "      <td>3</td>\n",
              "      <td>32</td>\n",
              "      <td>16</td>\n",
              "      <td>128</td>\n",
              "      <td>2800</td>\n",
              "      <td>4</td>\n",
              "      <td>4</td>\n",
              "      <td>210</td>\n",
              "      <td>35460</td>\n",
              "    </tr>\n",
              "    <tr>\n",
              "      <th>11</th>\n",
              "      <td>ELS333L</td>\n",
              "      <td>yes</td>\n",
              "      <td>yes</td>\n",
              "      <td>yes</td>\n",
              "      <td>yes</td>\n",
              "      <td>2580</td>\n",
              "      <td>1920</td>\n",
              "      <td>8</td>\n",
              "      <td>6</td>\n",
              "      <td>64</td>\n",
              "      <td>32</td>\n",
              "      <td>8</td>\n",
              "      <td>4500</td>\n",
              "      <td>8</td>\n",
              "      <td>4</td>\n",
              "      <td>150</td>\n",
              "      <td>43980</td>\n",
              "    </tr>\n",
              "    <tr>\n",
              "      <th>12</th>\n",
              "      <td>ETT987D</td>\n",
              "      <td>no</td>\n",
              "      <td>yes</td>\n",
              "      <td>yes</td>\n",
              "      <td>yes</td>\n",
              "      <td>2580</td>\n",
              "      <td>1980</td>\n",
              "      <td>6</td>\n",
              "      <td>5</td>\n",
              "      <td>64</td>\n",
              "      <td>32</td>\n",
              "      <td>64</td>\n",
              "      <td>4500</td>\n",
              "      <td>6</td>\n",
              "      <td>4</td>\n",
              "      <td>300</td>\n",
              "      <td>28700</td>\n",
              "    </tr>\n",
              "  </tbody>\n",
              "</table>\n",
              "</div>\n",
              "      <button class=\"colab-df-convert\" onclick=\"convertToInteractive('df-6bb67596-af36-49f2-8de1-725b9ea936a5')\"\n",
              "              title=\"Convert this dataframe to an interactive table.\"\n",
              "              style=\"display:none;\">\n",
              "        \n",
              "  <svg xmlns=\"http://www.w3.org/2000/svg\" height=\"24px\"viewBox=\"0 0 24 24\"\n",
              "       width=\"24px\">\n",
              "    <path d=\"M0 0h24v24H0V0z\" fill=\"none\"/>\n",
              "    <path d=\"M18.56 5.44l.94 2.06.94-2.06 2.06-.94-2.06-.94-.94-2.06-.94 2.06-2.06.94zm-11 1L8.5 8.5l.94-2.06 2.06-.94-2.06-.94L8.5 2.5l-.94 2.06-2.06.94zm10 10l.94 2.06.94-2.06 2.06-.94-2.06-.94-.94-2.06-.94 2.06-2.06.94z\"/><path d=\"M17.41 7.96l-1.37-1.37c-.4-.4-.92-.59-1.43-.59-.52 0-1.04.2-1.43.59L10.3 9.45l-7.72 7.72c-.78.78-.78 2.05 0 2.83L4 21.41c.39.39.9.59 1.41.59.51 0 1.02-.2 1.41-.59l7.78-7.78 2.81-2.81c.8-.78.8-2.07 0-2.86zM5.41 20L4 18.59l7.72-7.72 1.47 1.35L5.41 20z\"/>\n",
              "  </svg>\n",
              "      </button>\n",
              "      \n",
              "  <style>\n",
              "    .colab-df-container {\n",
              "      display:flex;\n",
              "      flex-wrap:wrap;\n",
              "      gap: 12px;\n",
              "    }\n",
              "\n",
              "    .colab-df-convert {\n",
              "      background-color: #E8F0FE;\n",
              "      border: none;\n",
              "      border-radius: 50%;\n",
              "      cursor: pointer;\n",
              "      display: none;\n",
              "      fill: #1967D2;\n",
              "      height: 32px;\n",
              "      padding: 0 0 0 0;\n",
              "      width: 32px;\n",
              "    }\n",
              "\n",
              "    .colab-df-convert:hover {\n",
              "      background-color: #E2EBFA;\n",
              "      box-shadow: 0px 1px 2px rgba(60, 64, 67, 0.3), 0px 1px 3px 1px rgba(60, 64, 67, 0.15);\n",
              "      fill: #174EA6;\n",
              "    }\n",
              "\n",
              "    [theme=dark] .colab-df-convert {\n",
              "      background-color: #3B4455;\n",
              "      fill: #D2E3FC;\n",
              "    }\n",
              "\n",
              "    [theme=dark] .colab-df-convert:hover {\n",
              "      background-color: #434B5C;\n",
              "      box-shadow: 0px 1px 3px 1px rgba(0, 0, 0, 0.15);\n",
              "      filter: drop-shadow(0px 1px 2px rgba(0, 0, 0, 0.3));\n",
              "      fill: #FFFFFF;\n",
              "    }\n",
              "  </style>\n",
              "\n",
              "      <script>\n",
              "        const buttonEl =\n",
              "          document.querySelector('#df-6bb67596-af36-49f2-8de1-725b9ea936a5 button.colab-df-convert');\n",
              "        buttonEl.style.display =\n",
              "          google.colab.kernel.accessAllowed ? 'block' : 'none';\n",
              "\n",
              "        async function convertToInteractive(key) {\n",
              "          const element = document.querySelector('#df-6bb67596-af36-49f2-8de1-725b9ea936a5');\n",
              "          const dataTable =\n",
              "            await google.colab.kernel.invokeFunction('convertToInteractive',\n",
              "                                                     [key], {});\n",
              "          if (!dataTable) return;\n",
              "\n",
              "          const docLinkHtml = 'Like what you see? Visit the ' +\n",
              "            '<a target=\"_blank\" href=https://colab.research.google.com/notebooks/data_table.ipynb>data table notebook</a>'\n",
              "            + ' to learn more about interactive tables.';\n",
              "          element.innerHTML = '';\n",
              "          dataTable['output_type'] = 'display_data';\n",
              "          await google.colab.output.renderOutput(dataTable, element);\n",
              "          const docLink = document.createElement('div');\n",
              "          docLink.innerHTML = docLinkHtml;\n",
              "          element.appendChild(docLink);\n",
              "        }\n",
              "      </script>\n",
              "    </div>\n",
              "  </div>\n",
              "  "
            ]
          },
          "metadata": {},
          "execution_count": 45
        }
      ]
    },
    {
      "cell_type": "markdown",
      "source": [
        "These are the most of the mobiles which are in the Price range of 20000 to 45000."
      ],
      "metadata": {
        "id": "8P-85tWKJZVx"
      }
    },
    {
      "cell_type": "code",
      "source": [
        "total=data[data['Price']>120000]\n",
        "total"
      ],
      "metadata": {
        "id": "ZEpOEi5lLIsI",
        "outputId": "c8866232-53e3-4ffb-b200-cdc9810d443e",
        "colab": {
          "base_uri": "https://localhost:8080/",
          "height": 144
        }
      },
      "execution_count": 46,
      "outputs": [
        {
          "output_type": "execute_result",
          "data": {
            "text/plain": [
              "        PID Blue Wi_Fi Tch_Scr Ext_Mem  Px_h  Px_w  Scr_h  Scr_w   PC  FC  \\\n",
              "49  ZZZ909X  yes   yes     yes      no  2880  2520      8      6  128  64   \n",
              "\n",
              "    Int_Mem  Bty_Pwr  RAM  Depth  Weight   Price  \n",
              "49     1024     5600   12      2     130  149000  "
            ],
            "text/html": [
              "\n",
              "  <div id=\"df-6ba507ae-f2d7-4b26-93ea-9650367300ba\">\n",
              "    <div class=\"colab-df-container\">\n",
              "      <div>\n",
              "<style scoped>\n",
              "    .dataframe tbody tr th:only-of-type {\n",
              "        vertical-align: middle;\n",
              "    }\n",
              "\n",
              "    .dataframe tbody tr th {\n",
              "        vertical-align: top;\n",
              "    }\n",
              "\n",
              "    .dataframe thead th {\n",
              "        text-align: right;\n",
              "    }\n",
              "</style>\n",
              "<table border=\"1\" class=\"dataframe\">\n",
              "  <thead>\n",
              "    <tr style=\"text-align: right;\">\n",
              "      <th></th>\n",
              "      <th>PID</th>\n",
              "      <th>Blue</th>\n",
              "      <th>Wi_Fi</th>\n",
              "      <th>Tch_Scr</th>\n",
              "      <th>Ext_Mem</th>\n",
              "      <th>Px_h</th>\n",
              "      <th>Px_w</th>\n",
              "      <th>Scr_h</th>\n",
              "      <th>Scr_w</th>\n",
              "      <th>PC</th>\n",
              "      <th>FC</th>\n",
              "      <th>Int_Mem</th>\n",
              "      <th>Bty_Pwr</th>\n",
              "      <th>RAM</th>\n",
              "      <th>Depth</th>\n",
              "      <th>Weight</th>\n",
              "      <th>Price</th>\n",
              "    </tr>\n",
              "  </thead>\n",
              "  <tbody>\n",
              "    <tr>\n",
              "      <th>49</th>\n",
              "      <td>ZZZ909X</td>\n",
              "      <td>yes</td>\n",
              "      <td>yes</td>\n",
              "      <td>yes</td>\n",
              "      <td>no</td>\n",
              "      <td>2880</td>\n",
              "      <td>2520</td>\n",
              "      <td>8</td>\n",
              "      <td>6</td>\n",
              "      <td>128</td>\n",
              "      <td>64</td>\n",
              "      <td>1024</td>\n",
              "      <td>5600</td>\n",
              "      <td>12</td>\n",
              "      <td>2</td>\n",
              "      <td>130</td>\n",
              "      <td>149000</td>\n",
              "    </tr>\n",
              "  </tbody>\n",
              "</table>\n",
              "</div>\n",
              "      <button class=\"colab-df-convert\" onclick=\"convertToInteractive('df-6ba507ae-f2d7-4b26-93ea-9650367300ba')\"\n",
              "              title=\"Convert this dataframe to an interactive table.\"\n",
              "              style=\"display:none;\">\n",
              "        \n",
              "  <svg xmlns=\"http://www.w3.org/2000/svg\" height=\"24px\"viewBox=\"0 0 24 24\"\n",
              "       width=\"24px\">\n",
              "    <path d=\"M0 0h24v24H0V0z\" fill=\"none\"/>\n",
              "    <path d=\"M18.56 5.44l.94 2.06.94-2.06 2.06-.94-2.06-.94-.94-2.06-.94 2.06-2.06.94zm-11 1L8.5 8.5l.94-2.06 2.06-.94-2.06-.94L8.5 2.5l-.94 2.06-2.06.94zm10 10l.94 2.06.94-2.06 2.06-.94-2.06-.94-.94-2.06-.94 2.06-2.06.94z\"/><path d=\"M17.41 7.96l-1.37-1.37c-.4-.4-.92-.59-1.43-.59-.52 0-1.04.2-1.43.59L10.3 9.45l-7.72 7.72c-.78.78-.78 2.05 0 2.83L4 21.41c.39.39.9.59 1.41.59.51 0 1.02-.2 1.41-.59l7.78-7.78 2.81-2.81c.8-.78.8-2.07 0-2.86zM5.41 20L4 18.59l7.72-7.72 1.47 1.35L5.41 20z\"/>\n",
              "  </svg>\n",
              "      </button>\n",
              "      \n",
              "  <style>\n",
              "    .colab-df-container {\n",
              "      display:flex;\n",
              "      flex-wrap:wrap;\n",
              "      gap: 12px;\n",
              "    }\n",
              "\n",
              "    .colab-df-convert {\n",
              "      background-color: #E8F0FE;\n",
              "      border: none;\n",
              "      border-radius: 50%;\n",
              "      cursor: pointer;\n",
              "      display: none;\n",
              "      fill: #1967D2;\n",
              "      height: 32px;\n",
              "      padding: 0 0 0 0;\n",
              "      width: 32px;\n",
              "    }\n",
              "\n",
              "    .colab-df-convert:hover {\n",
              "      background-color: #E2EBFA;\n",
              "      box-shadow: 0px 1px 2px rgba(60, 64, 67, 0.3), 0px 1px 3px 1px rgba(60, 64, 67, 0.15);\n",
              "      fill: #174EA6;\n",
              "    }\n",
              "\n",
              "    [theme=dark] .colab-df-convert {\n",
              "      background-color: #3B4455;\n",
              "      fill: #D2E3FC;\n",
              "    }\n",
              "\n",
              "    [theme=dark] .colab-df-convert:hover {\n",
              "      background-color: #434B5C;\n",
              "      box-shadow: 0px 1px 3px 1px rgba(0, 0, 0, 0.15);\n",
              "      filter: drop-shadow(0px 1px 2px rgba(0, 0, 0, 0.3));\n",
              "      fill: #FFFFFF;\n",
              "    }\n",
              "  </style>\n",
              "\n",
              "      <script>\n",
              "        const buttonEl =\n",
              "          document.querySelector('#df-6ba507ae-f2d7-4b26-93ea-9650367300ba button.colab-df-convert');\n",
              "        buttonEl.style.display =\n",
              "          google.colab.kernel.accessAllowed ? 'block' : 'none';\n",
              "\n",
              "        async function convertToInteractive(key) {\n",
              "          const element = document.querySelector('#df-6ba507ae-f2d7-4b26-93ea-9650367300ba');\n",
              "          const dataTable =\n",
              "            await google.colab.kernel.invokeFunction('convertToInteractive',\n",
              "                                                     [key], {});\n",
              "          if (!dataTable) return;\n",
              "\n",
              "          const docLinkHtml = 'Like what you see? Visit the ' +\n",
              "            '<a target=\"_blank\" href=https://colab.research.google.com/notebooks/data_table.ipynb>data table notebook</a>'\n",
              "            + ' to learn more about interactive tables.';\n",
              "          element.innerHTML = '';\n",
              "          dataTable['output_type'] = 'display_data';\n",
              "          await google.colab.output.renderOutput(dataTable, element);\n",
              "          const docLink = document.createElement('div');\n",
              "          docLink.innerHTML = docLinkHtml;\n",
              "          element.appendChild(docLink);\n",
              "        }\n",
              "      </script>\n",
              "    </div>\n",
              "  </div>\n",
              "  "
            ]
          },
          "metadata": {},
          "execution_count": 46
        }
      ]
    },
    {
      "cell_type": "markdown",
      "source": [
        "This is the only costlyest mobile in the Dataset"
      ],
      "metadata": {
        "id": "weE-pBsdLW04"
      }
    }
  ],
  "metadata": {
    "colab": {
      "name": "Welcome To Colaboratory",
      "provenance": [],
      "include_colab_link": true
    },
    "kernelspec": {
      "display_name": "Python 3",
      "name": "python3"
    }
  },
  "nbformat": 4,
  "nbformat_minor": 0
}