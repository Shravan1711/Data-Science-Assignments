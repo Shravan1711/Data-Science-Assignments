{
  "cells": [
    {
      "cell_type": "markdown",
      "metadata": {
        "id": "view-in-github",
        "colab_type": "text"
      },
      "source": [
        "<a href=\"https://colab.research.google.com/github/Shravan1711/Python-Assignments/blob/main/Python%20basics%20assignment.ipynb\" target=\"_parent\"><img src=\"https://colab.research.google.com/assets/colab-badge.svg\" alt=\"Open In Colab\"/></a>"
      ]
    },
    {
      "cell_type": "code",
      "source": [
        "print(input('What is your name:'))"
      ],
      "metadata": {
        "id": "xsbyaZBy3vDT",
        "outputId": "658deace-dc26-4657-dbdf-2359452437a2",
        "colab": {
          "base_uri": "https://localhost:8080/"
        }
      },
      "execution_count": null,
      "outputs": [
        {
          "output_type": "stream",
          "name": "stdout",
          "text": [
            "What is your name:Shravan kumar m\n",
            "Shravan kumar m\n"
          ]
        }
      ]
    },
    {
      "cell_type": "code",
      "source": [
        "mukesh=7\n",
        "z=6\n",
        "rohan=5\n",
        "longitude=4"
      ],
      "metadata": {
        "id": "Pnzp6KP_4J9w"
      },
      "execution_count": null,
      "outputs": []
    },
    {
      "cell_type": "code",
      "source": [
        "print(longitude)"
      ],
      "metadata": {
        "id": "z6PL6dPH4i1q",
        "outputId": "f660a793-6ea1-4fd3-c258-a209568df2e3",
        "colab": {
          "base_uri": "https://localhost:8080/"
        }
      },
      "execution_count": null,
      "outputs": [
        {
          "output_type": "stream",
          "name": "stdout",
          "text": [
            "4\n"
          ]
        }
      ]
    },
    {
      "cell_type": "code",
      "source": [
        "ur_age=21\n",
        "ur_weight=50.6\n",
        "ur_first_name='Mukesh'\n",
        "ur_last_name='Manral'"
      ],
      "metadata": {
        "id": "dMrRA6WO4m2d"
      },
      "execution_count": null,
      "outputs": []
    },
    {
      "cell_type": "code",
      "source": [
        "type(ur_age),type(ur_weight),type(ur_first_name),type(ur_last_name)\n"
      ],
      "metadata": {
        "id": "aCIoEOEq5FU1",
        "outputId": "0b3f88d8-b8db-4694-e4a8-8525159e04ca",
        "colab": {
          "base_uri": "https://localhost:8080/"
        }
      },
      "execution_count": null,
      "outputs": [
        {
          "output_type": "execute_result",
          "data": {
            "text/plain": [
              "(int, float, str, str)"
            ]
          },
          "metadata": {},
          "execution_count": 34
        }
      ]
    },
    {
      "cell_type": "code",
      "source": [
        "print(ur_age,ur_weight,ur_first_name,ur_last_name)"
      ],
      "metadata": {
        "id": "7pTRUTbv5hG_",
        "outputId": "e89b4960-5d7e-480a-b232-3fb37145b4e6",
        "colab": {
          "base_uri": "https://localhost:8080/"
        }
      },
      "execution_count": null,
      "outputs": [
        {
          "output_type": "stream",
          "name": "stdout",
          "text": [
            "21 50.6 Mukesh Manral\n"
          ]
        }
      ]
    },
    {
      "cell_type": "code",
      "source": [
        "ur_first_name='Mukesh'\n",
        "ur_last_name='Mukesh'\n",
        "ur_first_name==ur_last_name\n"
      ],
      "metadata": {
        "id": "NZjR6occ59vH",
        "outputId": "af65ffcd-42d4-4cef-f6d3-b5f4768c2d75",
        "colab": {
          "base_uri": "https://localhost:8080/"
        }
      },
      "execution_count": null,
      "outputs": [
        {
          "output_type": "execute_result",
          "data": {
            "text/plain": [
              "True"
            ]
          },
          "metadata": {},
          "execution_count": 38
        }
      ]
    },
    {
      "cell_type": "code",
      "source": [
        "x=777\n",
        "print(x)"
      ],
      "metadata": {
        "id": "2szvxDNM6NYN",
        "outputId": "8652459b-0ffa-47d2-9bb1-1245380723d1",
        "colab": {
          "base_uri": "https://localhost:8080/"
        }
      },
      "execution_count": null,
      "outputs": [
        {
          "output_type": "stream",
          "name": "stdout",
          "text": [
            "777\n"
          ]
        }
      ]
    },
    {
      "cell_type": "code",
      "source": [
        "x=7\n",
        "y=77\n",
        "z=77.7\n",
        "zz='Hi'\n"
      ],
      "metadata": {
        "id": "2u0LLOgn6TnA"
      },
      "execution_count": null,
      "outputs": []
    },
    {
      "cell_type": "code",
      "source": [
        "x+z"
      ],
      "metadata": {
        "id": "ad9pKhFd6lz0",
        "outputId": "df155096-1150-4b8a-bc78-b6832177c857",
        "colab": {
          "base_uri": "https://localhost:8080/"
        }
      },
      "execution_count": null,
      "outputs": [
        {
          "output_type": "execute_result",
          "data": {
            "text/plain": [
              "84.7"
            ]
          },
          "metadata": {},
          "execution_count": 41
        }
      ]
    },
    {
      "cell_type": "code",
      "source": [
        "z-y"
      ],
      "metadata": {
        "id": "2lmjyuiD6xhn",
        "outputId": "b0c369f5-55ef-47f5-b60b-0341bc44a7ae",
        "colab": {
          "base_uri": "https://localhost:8080/"
        }
      },
      "execution_count": null,
      "outputs": [
        {
          "output_type": "execute_result",
          "data": {
            "text/plain": [
              "0.7000000000000028"
            ]
          },
          "metadata": {},
          "execution_count": 42
        }
      ]
    },
    {
      "cell_type": "code",
      "source": [
        "x*z"
      ],
      "metadata": {
        "id": "IMzJ1Vmc61IF",
        "outputId": "f4424adf-f8db-4cbc-a15a-f104aac317af",
        "colab": {
          "base_uri": "https://localhost:8080/"
        }
      },
      "execution_count": null,
      "outputs": [
        {
          "output_type": "execute_result",
          "data": {
            "text/plain": [
              "543.9"
            ]
          },
          "metadata": {},
          "execution_count": 43
        }
      ]
    },
    {
      "cell_type": "code",
      "source": [
        "x**z"
      ],
      "metadata": {
        "id": "U_Vs4kwg67zc",
        "outputId": "18256118-b28c-4153-f49c-4f59725e3432",
        "colab": {
          "base_uri": "https://localhost:8080/"
        }
      },
      "execution_count": null,
      "outputs": [
        {
          "output_type": "execute_result",
          "data": {
            "text/plain": [
              "4.614426248242042e+65"
            ]
          },
          "metadata": {},
          "execution_count": 44
        }
      ]
    },
    {
      "cell_type": "code",
      "source": [
        "x/z"
      ],
      "metadata": {
        "id": "-vQIEvBe6_5L",
        "outputId": "240742f0-ecef-4f63-854d-0676ce4527d8",
        "colab": {
          "base_uri": "https://localhost:8080/"
        }
      },
      "execution_count": null,
      "outputs": [
        {
          "output_type": "execute_result",
          "data": {
            "text/plain": [
              "0.09009009009009009"
            ]
          },
          "metadata": {},
          "execution_count": 45
        }
      ]
    },
    {
      "cell_type": "code",
      "source": [
        "x/z"
      ],
      "metadata": {
        "id": "bpCewKQt7LPh",
        "outputId": "d456b9dd-2b76-4436-8a94-31a4f5267d8c",
        "colab": {
          "base_uri": "https://localhost:8080/"
        }
      },
      "execution_count": null,
      "outputs": [
        {
          "output_type": "execute_result",
          "data": {
            "text/plain": [
              "0.09009009009009009"
            ]
          },
          "metadata": {},
          "execution_count": 48
        }
      ]
    },
    {
      "cell_type": "code",
      "source": [
        "x%z"
      ],
      "metadata": {
        "id": "R3V8f4IR7XrW",
        "outputId": "1d324cc4-bb20-4d85-c5c4-28846f9d5f0f",
        "colab": {
          "base_uri": "https://localhost:8080/"
        }
      },
      "execution_count": null,
      "outputs": [
        {
          "output_type": "execute_result",
          "data": {
            "text/plain": [
              "7.0"
            ]
          },
          "metadata": {},
          "execution_count": 49
        }
      ]
    },
    {
      "cell_type": "code",
      "source": [
        "x<z"
      ],
      "metadata": {
        "id": "Ytw2W9yr7kSp",
        "outputId": "b0e4d2f0-1aa7-4629-e20d-5b6f368d9c9e",
        "colab": {
          "base_uri": "https://localhost:8080/"
        }
      },
      "execution_count": null,
      "outputs": [
        {
          "output_type": "execute_result",
          "data": {
            "text/plain": [
              "True"
            ]
          },
          "metadata": {},
          "execution_count": 50
        }
      ]
    },
    {
      "cell_type": "code",
      "source": [
        "type(x<z)"
      ],
      "metadata": {
        "id": "DZe6eWLD7q2c",
        "outputId": "c77a0cba-c69e-49dd-abfc-ce30ee762352",
        "colab": {
          "base_uri": "https://localhost:8080/"
        }
      },
      "execution_count": null,
      "outputs": [
        {
          "output_type": "execute_result",
          "data": {
            "text/plain": [
              "bool"
            ]
          },
          "metadata": {},
          "execution_count": 51
        }
      ]
    },
    {
      "cell_type": "code",
      "source": [
        "x<=z"
      ],
      "metadata": {
        "id": "uAmzED8w7uoq",
        "outputId": "540689a9-6ca4-488d-d9ba-ce15b24f9c83",
        "colab": {
          "base_uri": "https://localhost:8080/"
        }
      },
      "execution_count": null,
      "outputs": [
        {
          "output_type": "execute_result",
          "data": {
            "text/plain": [
              "True"
            ]
          },
          "metadata": {},
          "execution_count": 52
        }
      ]
    },
    {
      "cell_type": "code",
      "source": [
        "x==z"
      ],
      "metadata": {
        "id": "55kDlPnz73AP",
        "outputId": "722e28c4-63df-4b3f-a969-37aacd6c5cea",
        "colab": {
          "base_uri": "https://localhost:8080/"
        }
      },
      "execution_count": null,
      "outputs": [
        {
          "output_type": "execute_result",
          "data": {
            "text/plain": [
              "False"
            ]
          },
          "metadata": {},
          "execution_count": 53
        }
      ]
    },
    {
      "cell_type": "code",
      "source": [
        "x>z"
      ],
      "metadata": {
        "id": "lrRVFEVr77KY",
        "outputId": "3a3e82dd-0290-4684-f6d3-3b07f4d25897",
        "colab": {
          "base_uri": "https://localhost:8080/"
        }
      },
      "execution_count": null,
      "outputs": [
        {
          "output_type": "execute_result",
          "data": {
            "text/plain": [
              "False"
            ]
          },
          "metadata": {},
          "execution_count": 54
        }
      ]
    },
    {
      "cell_type": "code",
      "source": [
        "x>=z"
      ],
      "metadata": {
        "id": "zDsVbByI7-cC",
        "outputId": "9a56ae44-53ca-415f-962c-84ae4781faec",
        "colab": {
          "base_uri": "https://localhost:8080/"
        }
      },
      "execution_count": null,
      "outputs": [
        {
          "output_type": "execute_result",
          "data": {
            "text/plain": [
              "False"
            ]
          },
          "metadata": {},
          "execution_count": 55
        }
      ]
    },
    {
      "cell_type": "code",
      "source": [
        "x!=z"
      ],
      "metadata": {
        "id": "TAC02_lf8BjW",
        "outputId": "e95ba66e-4a19-4e82-9b9a-653eda8a59b2",
        "colab": {
          "base_uri": "https://localhost:8080/"
        }
      },
      "execution_count": null,
      "outputs": [
        {
          "output_type": "execute_result",
          "data": {
            "text/plain": [
              "True"
            ]
          },
          "metadata": {},
          "execution_count": 56
        }
      ]
    },
    {
      "cell_type": "code",
      "source": [
        "108 == 108 and 21 == 21"
      ],
      "metadata": {
        "id": "z_7TZoQ08D04",
        "outputId": "221c8d28-6311-42bd-c1ab-0d4cf166f0fd",
        "colab": {
          "base_uri": "https://localhost:8080/"
        }
      },
      "execution_count": null,
      "outputs": [
        {
          "output_type": "execute_result",
          "data": {
            "text/plain": [
              "True"
            ]
          },
          "metadata": {},
          "execution_count": 57
        }
      ]
    },
    {
      "cell_type": "code",
      "source": [
        "108 == 108 or 21 == 11"
      ],
      "metadata": {
        "id": "h7byiGr78Urk",
        "outputId": "1042ed11-40dc-4b31-990c-ecb29afdb3d2",
        "colab": {
          "base_uri": "https://localhost:8080/"
        }
      },
      "execution_count": null,
      "outputs": [
        {
          "output_type": "execute_result",
          "data": {
            "text/plain": [
              "True"
            ]
          },
          "metadata": {},
          "execution_count": 59
        }
      ]
    },
    {
      "cell_type": "code",
      "source": [
        "money = 100000\n",
        "money>2000"
      ],
      "metadata": {
        "id": "-AzTkmjs8aXT",
        "outputId": "52d4e066-1038-4aed-9473-2f72162e580d",
        "colab": {
          "base_uri": "https://localhost:8080/"
        }
      },
      "execution_count": null,
      "outputs": [
        {
          "output_type": "execute_result",
          "data": {
            "text/plain": [
              "True"
            ]
          },
          "metadata": {},
          "execution_count": 60
        }
      ]
    },
    {
      "cell_type": "code",
      "source": [
        "money = 10000\n",
        "if money>1000:\n",
        "  print('data science course is free')\n",
        "if money>1000 == False:\n",
        "  print('you have less money than 1000 in your bank account')\n",
        "else:\n",
        "  print('will work for now only if is working')"
      ],
      "metadata": {
        "id": "KuKjpgq28xQ9",
        "outputId": "98164acb-6dec-4473-948d-7d96560ab3dc",
        "colab": {
          "base_uri": "https://localhost:8080/"
        }
      },
      "execution_count": null,
      "outputs": [
        {
          "output_type": "stream",
          "name": "stdout",
          "text": [
            "data science course is free\n",
            "will work for now only if is working\n"
          ]
        }
      ]
    },
    {
      "cell_type": "code",
      "source": [
        "test_score=80\n",
        "if test_score>80:\n",
        "  print('A grade')\n",
        "elif test_score>60 and test_score<80:\n",
        "  print('B grade')\n",
        "else:\n",
        "  print('Nothing for you')"
      ],
      "metadata": {
        "id": "H7WFwOD3-6J3",
        "outputId": "55835afb-a400-4ffd-bdc8-e6cef0746d93",
        "colab": {
          "base_uri": "https://localhost:8080/"
        }
      },
      "execution_count": null,
      "outputs": [
        {
          "output_type": "stream",
          "name": "stdout",
          "text": [
            "Nothing for you\n"
          ]
        }
      ]
    },
    {
      "cell_type": "code",
      "source": [
        "for i in range(10):\n",
        "  print('I love sports')"
      ],
      "metadata": {
        "id": "0Oi65daG_jFj",
        "outputId": "a5e0cb1c-9762-4413-f5e1-9e969d7da2b9",
        "colab": {
          "base_uri": "https://localhost:8080/"
        }
      },
      "execution_count": null,
      "outputs": [
        {
          "output_type": "stream",
          "name": "stdout",
          "text": [
            "I love sports\n",
            "I love sports\n",
            "I love sports\n",
            "I love sports\n",
            "I love sports\n",
            "I love sports\n",
            "I love sports\n",
            "I love sports\n",
            "I love sports\n",
            "I love sports\n"
          ]
        }
      ]
    },
    {
      "cell_type": "code",
      "source": [
        "number=0\n",
        "while number<11:\n",
        "  print(number)\n",
        "  number+=1"
      ],
      "metadata": {
        "id": "YvqemUSo_vGs",
        "outputId": "3ea4eb05-2874-402e-8ae8-fe8add1f5cab",
        "colab": {
          "base_uri": "https://localhost:8080/"
        }
      },
      "execution_count": null,
      "outputs": [
        {
          "output_type": "stream",
          "name": "stdout",
          "text": [
            "0\n",
            "1\n",
            "2\n",
            "3\n",
            "4\n",
            "5\n",
            "6\n",
            "7\n",
            "8\n",
            "9\n",
            "10\n"
          ]
        }
      ]
    },
    {
      "cell_type": "code",
      "source": [
        "for i in range(10):\n",
        "  print('the number is:',i)\n",
        "  if i==5:\n",
        "    break"
      ],
      "metadata": {
        "id": "ffroquZXAI_N",
        "outputId": "f9a22d7e-5f26-41d3-d7e6-9ee75f2be00b",
        "colab": {
          "base_uri": "https://localhost:8080/"
        }
      },
      "execution_count": null,
      "outputs": [
        {
          "output_type": "stream",
          "name": "stdout",
          "text": [
            "the number is: 0\n",
            "the number is: 1\n",
            "the number is: 2\n",
            "the number is: 3\n",
            "the number is: 4\n",
            "the number is: 5\n"
          ]
        }
      ]
    },
    {
      "cell_type": "code",
      "source": [
        "for i in range(10):\n",
        "  \n",
        "  if i==5:\n",
        "    continue\n",
        "  print('the number is:',i)"
      ],
      "metadata": {
        "id": "Y-QpFWu3AvWg",
        "outputId": "9c59af53-4fbc-4665-9a50-82b245e86c89",
        "colab": {
          "base_uri": "https://localhost:8080/"
        }
      },
      "execution_count": null,
      "outputs": [
        {
          "output_type": "stream",
          "name": "stdout",
          "text": [
            "the number is: 0\n",
            "the number is: 1\n",
            "the number is: 2\n",
            "the number is: 3\n",
            "the number is: 4\n",
            "the number is: 6\n",
            "the number is: 7\n",
            "the number is: 8\n",
            "the number is: 9\n"
          ]
        }
      ]
    },
    {
      "cell_type": "code",
      "source": [
        "string=(\"We are creating next generation data science eco-system at CollegeRanker\")\n",
        "print(len(string))"
      ],
      "metadata": {
        "id": "ERAHJcCPBHXs",
        "outputId": "2f26abc6-c30b-46ba-9715-5d2ec0d39b02",
        "colab": {
          "base_uri": "https://localhost:8080/"
        }
      },
      "execution_count": null,
      "outputs": [
        {
          "output_type": "stream",
          "name": "stdout",
          "text": [
            "72\n"
          ]
        }
      ]
    },
    {
      "cell_type": "code",
      "source": [
        "print(string[0])"
      ],
      "metadata": {
        "id": "IzhTOtXQBfLY",
        "outputId": "d4b59b6c-1a28-45a3-93ab-10444f712254",
        "colab": {
          "base_uri": "https://localhost:8080/"
        }
      },
      "execution_count": null,
      "outputs": [
        {
          "output_type": "stream",
          "name": "stdout",
          "text": [
            "W\n"
          ]
        }
      ]
    },
    {
      "cell_type": "code",
      "source": [
        "print(string[-1])"
      ],
      "metadata": {
        "id": "bZn9yALFBjpI",
        "outputId": "6e87c2d4-5a3b-4565-9c85-7cfc623f1c89",
        "colab": {
          "base_uri": "https://localhost:8080/"
        }
      },
      "execution_count": null,
      "outputs": [
        {
          "output_type": "stream",
          "name": "stdout",
          "text": [
            "r\n"
          ]
        }
      ]
    },
    {
      "cell_type": "code",
      "source": [
        "print(string[:6])"
      ],
      "metadata": {
        "id": "aKXMNbT7BrN8",
        "outputId": "6d6a2bbe-c7a6-4f23-df58-77ef2d5620a3",
        "colab": {
          "base_uri": "https://localhost:8080/"
        }
      },
      "execution_count": null,
      "outputs": [
        {
          "output_type": "stream",
          "name": "stdout",
          "text": [
            "We are\n"
          ]
        }
      ]
    },
    {
      "cell_type": "code",
      "source": [
        "print(string[7:-10])"
      ],
      "metadata": {
        "id": "C9Ay3XIIBulD",
        "outputId": "d85d477c-2793-4145-f12c-85da94c38e62",
        "colab": {
          "base_uri": "https://localhost:8080/"
        }
      },
      "execution_count": null,
      "outputs": [
        {
          "output_type": "stream",
          "name": "stdout",
          "text": [
            "creating next generation data science eco-system at Col\n"
          ]
        }
      ]
    },
    {
      "cell_type": "code",
      "source": [
        "string.find('g')"
      ],
      "metadata": {
        "id": "Vx4iNPp1B10V",
        "outputId": "bd15a0dc-68f5-4459-bcac-c9a99a47e28e",
        "colab": {
          "base_uri": "https://localhost:8080/"
        }
      },
      "execution_count": null,
      "outputs": [
        {
          "output_type": "execute_result",
          "data": {
            "text/plain": [
              "14"
            ]
          },
          "metadata": {},
          "execution_count": 80
        }
      ]
    },
    {
      "cell_type": "code",
      "source": [
        "string.index('n')"
      ],
      "metadata": {
        "id": "JBPMDMxzCVR9",
        "outputId": "acf80757-2649-4075-aa0c-970126347ed9",
        "colab": {
          "base_uri": "https://localhost:8080/"
        }
      },
      "execution_count": null,
      "outputs": [
        {
          "output_type": "execute_result",
          "data": {
            "text/plain": [
              "13"
            ]
          },
          "metadata": {},
          "execution_count": 83
        }
      ]
    },
    {
      "cell_type": "code",
      "source": [
        "string.startswith('c')"
      ],
      "metadata": {
        "id": "8QKWEdvJCrGK",
        "outputId": "acb3a706-b380-43be-bc3b-fe57e1c9291e",
        "colab": {
          "base_uri": "https://localhost:8080/"
        }
      },
      "execution_count": null,
      "outputs": [
        {
          "output_type": "execute_result",
          "data": {
            "text/plain": [
              "False"
            ]
          },
          "metadata": {},
          "execution_count": 87
        }
      ]
    },
    {
      "cell_type": "code",
      "source": [
        "string.endswith('r')"
      ],
      "metadata": {
        "id": "2Dk6sDwFC6S0",
        "outputId": "0ed41cfd-656e-4b2a-c269-5137c414f17e",
        "colab": {
          "base_uri": "https://localhost:8080/"
        }
      },
      "execution_count": null,
      "outputs": [
        {
          "output_type": "execute_result",
          "data": {
            "text/plain": [
              "True"
            ]
          },
          "metadata": {},
          "execution_count": 88
        }
      ]
    },
    {
      "cell_type": "code",
      "source": [
        "string.upper()"
      ],
      "metadata": {
        "id": "Z9RPTMRkC-yT",
        "outputId": "0d048395-7a97-4270-b451-d66627a300e4",
        "colab": {
          "base_uri": "https://localhost:8080/",
          "height": 35
        }
      },
      "execution_count": null,
      "outputs": [
        {
          "output_type": "execute_result",
          "data": {
            "text/plain": [
              "'WE ARE CREATING NEXT GENERATION DATA SCIENCE ECO-SYSTEM AT COLLEGERANKER'"
            ],
            "application/vnd.google.colaboratory.intrinsic+json": {
              "type": "string"
            }
          },
          "metadata": {},
          "execution_count": 90
        }
      ]
    },
    {
      "cell_type": "code",
      "source": [
        "string.capitalize()"
      ],
      "metadata": {
        "id": "rutAMKcBDGOz",
        "outputId": "538d03e9-ebf3-4838-a191-01d587a0592f",
        "colab": {
          "base_uri": "https://localhost:8080/",
          "height": 35
        }
      },
      "execution_count": null,
      "outputs": [
        {
          "output_type": "execute_result",
          "data": {
            "text/plain": [
              "'We are creating next generation data science eco-system at collegeranker'"
            ],
            "application/vnd.google.colaboratory.intrinsic+json": {
              "type": "string"
            }
          },
          "metadata": {},
          "execution_count": 91
        }
      ]
    },
    {
      "cell_type": "code",
      "source": [
        "string.isupper()"
      ],
      "metadata": {
        "id": "kLp-4DxlDOyz",
        "outputId": "ebb43182-ac7e-4c41-e357-13da1bcddbce",
        "colab": {
          "base_uri": "https://localhost:8080/"
        }
      },
      "execution_count": null,
      "outputs": [
        {
          "output_type": "execute_result",
          "data": {
            "text/plain": [
              "False"
            ]
          },
          "metadata": {},
          "execution_count": 92
        }
      ]
    },
    {
      "cell_type": "code",
      "source": [
        "string.islower()"
      ],
      "metadata": {
        "id": "veFsHeMSDhXD",
        "outputId": "897c4a65-f868-4d18-e35d-49112915dafe",
        "colab": {
          "base_uri": "https://localhost:8080/"
        }
      },
      "execution_count": null,
      "outputs": [
        {
          "output_type": "execute_result",
          "data": {
            "text/plain": [
              "False"
            ]
          },
          "metadata": {},
          "execution_count": 93
        }
      ]
    },
    {
      "cell_type": "code",
      "source": [
        "string.isdigit()"
      ],
      "metadata": {
        "id": "RTNsdCrXDndI",
        "outputId": "49232a3d-b612-4f3d-b72d-ec671ef909f9",
        "colab": {
          "base_uri": "https://localhost:8080/"
        }
      },
      "execution_count": null,
      "outputs": [
        {
          "output_type": "execute_result",
          "data": {
            "text/plain": [
              "False"
            ]
          },
          "metadata": {},
          "execution_count": 94
        }
      ]
    },
    {
      "cell_type": "code",
      "source": [
        "string.isalpha()"
      ],
      "metadata": {
        "id": "kUQl-YrWDubh",
        "outputId": "8e903c25-0c1b-454e-f186-e0fa7755cd47",
        "colab": {
          "base_uri": "https://localhost:8080/"
        }
      },
      "execution_count": null,
      "outputs": [
        {
          "output_type": "execute_result",
          "data": {
            "text/plain": [
              "False"
            ]
          },
          "metadata": {},
          "execution_count": 95
        }
      ]
    },
    {
      "cell_type": "code",
      "source": [
        "string.isalnum()"
      ],
      "metadata": {
        "id": "6kS0cjv4D1cf",
        "outputId": "310a2a31-b7fa-4dba-8ca3-44136b4d0a58",
        "colab": {
          "base_uri": "https://localhost:8080/"
        }
      },
      "execution_count": null,
      "outputs": [
        {
          "output_type": "execute_result",
          "data": {
            "text/plain": [
              "False"
            ]
          },
          "metadata": {},
          "execution_count": 96
        }
      ]
    },
    {
      "cell_type": "code",
      "source": [
        "new_str=\"c++ is easy to learn\"\n",
        "new_str.replace('c++','python')"
      ],
      "metadata": {
        "id": "VhcLAOFnD8dj",
        "outputId": "d30783d0-1a78-46b9-ede6-bc4a101cef9f",
        "colab": {
          "base_uri": "https://localhost:8080/",
          "height": 35
        }
      },
      "execution_count": null,
      "outputs": [
        {
          "output_type": "execute_result",
          "data": {
            "text/plain": [
              "'python is easy to learn'"
            ],
            "application/vnd.google.colaboratory.intrinsic+json": {
              "type": "string"
            }
          },
          "metadata": {},
          "execution_count": 98
        }
      ]
    },
    {
      "cell_type": "code",
      "source": [
        "new_str.split()"
      ],
      "metadata": {
        "id": "fGnhYEDmESMo",
        "outputId": "9cb8205d-9633-480a-cd6a-a01cde457dfe",
        "colab": {
          "base_uri": "https://localhost:8080/"
        }
      },
      "execution_count": null,
      "outputs": [
        {
          "output_type": "execute_result",
          "data": {
            "text/plain": [
              "['c++', 'is', 'easy', 'to', 'learn']"
            ]
          },
          "metadata": {},
          "execution_count": 99
        }
      ]
    },
    {
      "cell_type": "code",
      "source": [
        "def welcome_message(name):\n",
        "  print(name)\n",
        "\n",
        "name='Welcome to Function !!!'\n",
        "welcome_message(name)\n"
      ],
      "metadata": {
        "id": "E95VQlkdEXkY",
        "outputId": "254d6b0b-d612-43bf-bb9d-9867b2c9ba45",
        "colab": {
          "base_uri": "https://localhost:8080/"
        }
      },
      "execution_count": null,
      "outputs": [
        {
          "output_type": "stream",
          "name": "stdout",
          "text": [
            "Welcome to Function !!!\n"
          ]
        }
      ]
    },
    {
      "cell_type": "code",
      "source": [
        "name='Shravan Kumar M'\n",
        "welcome_message(name)"
      ],
      "metadata": {
        "id": "u1ltY3AeFVbg",
        "outputId": "0325c025-8572-4ce1-8280-b3e8eeb4717d",
        "colab": {
          "base_uri": "https://localhost:8080/"
        }
      },
      "execution_count": null,
      "outputs": [
        {
          "output_type": "stream",
          "name": "stdout",
          "text": [
            "Shravan Kumar M\n"
          ]
        }
      ]
    },
    {
      "cell_type": "code",
      "source": [
        "def add_two_num(a,b):\n",
        "  c=a+b\n",
        "  print(c)\n",
        "a=3\n",
        "b=4\n",
        "add_two_num(a,b)"
      ],
      "metadata": {
        "id": "WDWN9WDgFf8e",
        "outputId": "3483be68-3238-4fbd-eadb-1f9e7d6a0cc1",
        "colab": {
          "base_uri": "https://localhost:8080/"
        }
      },
      "execution_count": null,
      "outputs": [
        {
          "output_type": "stream",
          "name": "stdout",
          "text": [
            "7\n"
          ]
        }
      ]
    },
    {
      "cell_type": "code",
      "source": [
        "def substraction_function(small_number,large_number):\n",
        "  sub=large_number-small_number\n",
        "  return sub\n",
        "\n",
        "small_number=5\n",
        "large_number=9\n",
        "substraction_function(small_number,large_number)"
      ],
      "metadata": {
        "id": "Lr7_bfiHF-K7",
        "outputId": "ccf3441c-efdf-4d50-8c13-5fc6bb3ed5dd",
        "colab": {
          "base_uri": "https://localhost:8080/"
        }
      },
      "execution_count": null,
      "outputs": [
        {
          "output_type": "execute_result",
          "data": {
            "text/plain": [
              "4"
            ]
          },
          "metadata": {},
          "execution_count": 105
        }
      ]
    },
    {
      "cell_type": "code",
      "source": [
        "global_variable='variable outside of function'\n",
        "def random_function():\n",
        "  return global_variable\n",
        "random_function()"
      ],
      "metadata": {
        "id": "_vMEgf8AHUCC",
        "outputId": "b7a6ef1e-65c4-4cde-f33c-35e7569f7af2",
        "colab": {
          "base_uri": "https://localhost:8080/",
          "height": 35
        }
      },
      "execution_count": null,
      "outputs": [
        {
          "output_type": "execute_result",
          "data": {
            "text/plain": [
              "'variable outside of function'"
            ],
            "application/vnd.google.colaboratory.intrinsic+json": {
              "type": "string"
            }
          },
          "metadata": {},
          "execution_count": 108
        }
      ]
    },
    {
      "cell_type": "code",
      "source": [
        "global_variable='variable outside of function'\n",
        "def random_function():\n",
        "  global_variable=(\"changing variable outside of function from inside of function\")\n",
        "  return global_variable\n",
        "random_function()"
      ],
      "metadata": {
        "id": "t2UJB_rrH9yY",
        "outputId": "d82787bf-7800-4358-e17b-cfdd495d947d",
        "colab": {
          "base_uri": "https://localhost:8080/",
          "height": 35
        }
      },
      "execution_count": null,
      "outputs": [
        {
          "output_type": "execute_result",
          "data": {
            "text/plain": [
              "'changing variable outside of function from inside of function'"
            ],
            "application/vnd.google.colaboratory.intrinsic+json": {
              "type": "string"
            }
          },
          "metadata": {},
          "execution_count": 109
        }
      ]
    }
  ],
  "metadata": {
    "colab": {
      "provenance": [],
      "include_colab_link": true
    },
    "kernelspec": {
      "display_name": "Python 3",
      "name": "python3"
    }
  },
  "nbformat": 4,
  "nbformat_minor": 0
}